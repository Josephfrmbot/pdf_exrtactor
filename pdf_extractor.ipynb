{
 "cells": [
  {
   "cell_type": "markdown",
   "id": "4be77734",
   "metadata": {},
   "source": [
    "# Import librairie"
   ]
  },
  {
   "cell_type": "code",
   "execution_count": 5,
   "id": "8031a70d",
   "metadata": {},
   "outputs": [
    {
     "name": "stdout",
     "output_type": "stream",
     "text": [
      "Requirement already satisfied: pypdf in c:\\users\\joseph\\anaconda3\\lib\\site-packages (3.3.0)Note: you may need to restart the kernel to use updated packages.\n",
      "\n",
      "Requirement already satisfied: typing_extensions>=3.10.0.0 in c:\\users\\joseph\\anaconda3\\lib\\site-packages (from pypdf) (4.3.0)\n"
     ]
    }
   ],
   "source": [
    "pip install pypdf\n"
   ]
  },
  {
   "cell_type": "code",
   "execution_count": 6,
   "id": "91d534d7",
   "metadata": {
    "scrolled": false
   },
   "outputs": [
    {
     "name": "stdout",
     "output_type": "stream",
     "text": [
      "Collecting pdfplumberNote: you may need to restart the kernel to use updated packages.\n",
      "\n",
      "  Using cached pdfplumber-0.7.6-py3-none-any.whl (40 kB)\n",
      "Collecting Wand>=0.6.10\n",
      "  Using cached Wand-0.6.11-py2.py3-none-any.whl (143 kB)\n",
      "Collecting pdfminer.six==20221105\n",
      "  Using cached pdfminer.six-20221105-py3-none-any.whl (5.6 MB)\n",
      "Requirement already satisfied: Pillow>=9.1 in c:\\users\\joseph\\anaconda3\\lib\\site-packages (from pdfplumber) (9.2.0)\n",
      "Requirement already satisfied: cryptography>=36.0.0 in c:\\users\\joseph\\anaconda3\\lib\\site-packages (from pdfminer.six==20221105->pdfplumber) (37.0.1)\n",
      "Requirement already satisfied: charset-normalizer>=2.0.0 in c:\\users\\joseph\\anaconda3\\lib\\site-packages (from pdfminer.six==20221105->pdfplumber) (2.0.4)\n",
      "Requirement already satisfied: cffi>=1.12 in c:\\users\\joseph\\anaconda3\\lib\\site-packages (from cryptography>=36.0.0->pdfminer.six==20221105->pdfplumber) (1.15.1)\n",
      "Requirement already satisfied: pycparser in c:\\users\\joseph\\anaconda3\\lib\\site-packages (from cffi>=1.12->cryptography>=36.0.0->pdfminer.six==20221105->pdfplumber) (2.21)\n",
      "Installing collected packages: Wand, pdfminer.six, pdfplumber\n",
      "Successfully installed Wand-0.6.11 pdfminer.six-20221105 pdfplumber-0.7.6\n"
     ]
    }
   ],
   "source": [
    "pip install pdfplumber\n"
   ]
  },
  {
   "cell_type": "code",
   "execution_count": 7,
   "id": "f9bead32",
   "metadata": {},
   "outputs": [
    {
     "name": "stdout",
     "output_type": "stream",
     "text": [
      "Collecting pymupdfNote: you may need to restart the kernel to use updated packages.\n",
      "\n",
      "  Downloading PyMuPDF-1.21.1-cp39-cp39-win_amd64.whl (11.7 MB)\n",
      "     ---------------------------------------- 11.7/11.7 MB 7.8 MB/s eta 0:00:00\n",
      "Installing collected packages: pymupdf\n",
      "Successfully installed pymupdf-1.21.1\n"
     ]
    }
   ],
   "source": [
    "pip install pymupdf"
   ]
  },
  {
   "cell_type": "code",
   "execution_count": 8,
   "id": "97b7640d",
   "metadata": {},
   "outputs": [],
   "source": [
    "from pypdf import PdfReader\n",
    "import pdfplumber\n",
    "import fitz"
   ]
  },
  {
   "cell_type": "markdown",
   "id": "8db7f831",
   "metadata": {},
   "source": [
    "# The reader"
   ]
  },
  {
   "cell_type": "code",
   "execution_count": 19,
   "id": "c453de3a",
   "metadata": {},
   "outputs": [
    {
     "name": "stdout",
     "output_type": "stream",
     "text": [
      "3\n"
     ]
    }
   ],
   "source": [
    "reader = PdfReader('sciete_generale.pdf ')\n",
    "print(len(reader.pages))\n"
   ]
  },
  {
   "cell_type": "markdown",
   "id": "68118e39",
   "metadata": {},
   "source": [
    "# Selecting one page"
   ]
  },
  {
   "cell_type": "code",
   "execution_count": 21,
   "id": "4415adcc",
   "metadata": {},
   "outputs": [],
   "source": [
    "page = reader.pages[0]"
   ]
  },
  {
   "cell_type": "markdown",
   "id": "bf41aacb",
   "metadata": {},
   "source": [
    "# Extract the text of this page\n"
   ]
  },
  {
   "cell_type": "code",
   "execution_count": 22,
   "id": "4d6f1cf4",
   "metadata": {},
   "outputs": [
    {
     "name": "stdout",
     "output_type": "stream",
     "text": [
      "  \n",
      "       \n",
      "Société anonyme au capital de 1  062 354 722,50  EUR –  552 120 222 RCS Paris  \n",
      "29 boulevard Haussmann, 75009 Paris  INFORMATION  SUR LES OPÉRATIONS EFFECTUÉES DANS LE \n",
      "CADRE D’UN PROGRAMME DE RACHAT D’ACTIONS, HORS \n",
      "CONTRAT DE LIQUIDITÉ  \n",
      " \n",
      "Information réglementée  \n",
      "Paris, le 23 j anvier  2023 \n",
      " \n",
      " \n",
      "(Conformément à l’Article 5 du règlement (UE) n°596/2014 sur les abus de marché et à l’Article 3(3) du \n",
      "règlement délégué (UE) 2016/1052 complétant le règlement (UE) n°596/2014 par des normes techniques de \n",
      "réglementation concernant les conditions applicables aux programmes de rachat et aux mesures de stabilisation)\n",
      " \n",
      " \n",
      "Société Générale a débuté le 16 décembre 2022 un nouveau programme de rachat de 2 707 207 actions \n",
      "Société Générale afin de couvrir les engagements d’attribution d’actions gratuites au profit des salariés \n",
      "et des dirigeants mandataires sociaux  du Groupe.  \n",
      " Société Générale a reçu toutes les autorisations nécessaires des autorités de supervision pour ces rachats qui seront exécutés dans le respect des conditions, notamment de prix maximal, prévues  par \n",
      "l’Assemblée Générale du 1 7 mai 2022 ainsi qu’ en conformité avec le Règlement Abus de marché. Ils \n",
      "seront réalisé s sur le s plate s-form es de négociation sur l esquelle s les actions Société Générale ont été \n",
      "admises à la négociation ou sont négociées , dont  le marché  réglementé d'Euronext Paris . \n",
      " Le contrat de liquidité conclu avec Rothschild est par ailleurs temporairement suspendu pendant toute \n",
      "la période de rachat.  \n",
      " \n",
      " \n",
      "Dénomination sociale de l’émetteur  : Société Générale - LEI O2RNE8IBXP4R0TD8PU41  \n",
      " \n",
      "Référence de l’instrument financier  : Actions ordin aires - Code ISIN FR0000130809  \n",
      " \n",
      "Période  : Du 16 au 20 janvier 2023  \n",
      "  \n",
      "\n"
     ]
    }
   ],
   "source": [
    "print(page.extract_text())"
   ]
  },
  {
   "cell_type": "markdown",
   "id": "77f19262",
   "metadata": {},
   "source": [
    "# Extracting all pages\n"
   ]
  },
  {
   "cell_type": "code",
   "execution_count": 39,
   "id": "e6e1b5d9",
   "metadata": {},
   "outputs": [
    {
     "name": "stdout",
     "output_type": "stream",
     "text": [
      "  \n",
      "       \n",
      "Société anonyme au capital de 1  062 354 722,50  EUR –  552 120 222 RCS Paris  \n",
      "29 boulevard Haussmann, 75009 Paris  INFORMATION  SUR LES OPÉRATIONS EFFECTUÉES DANS LE \n",
      "CADRE D’UN PROGRAMME DE RACHAT D’ACTIONS, HORS \n",
      "CONTRAT DE LIQUIDITÉ  \n",
      " \n",
      "Information réglementée  \n",
      "Paris, le 23 j anvier  2023 \n",
      " \n",
      " \n",
      "(Conformément à l’Article 5 du règlement (UE) n°596/2014 sur les abus de marché et à l’Article 3(3) du \n",
      "règlement délégué (UE) 2016/1052 complétant le règlement (UE) n°596/2014 par des normes techniques de \n",
      "réglementation concernant les conditions applicables aux programmes de rachat et aux mesures de stabilisation)\n",
      " \n",
      " \n",
      "Société Générale a débuté le 16 décembre 2022 un nouveau programme de rachat de 2 707 207 actions \n",
      "Société Générale afin de couvrir les engagements d’attribution d’actions gratuites au profit des salariés \n",
      "et des dirigeants mandataires sociaux  du Groupe.  \n",
      " Société Générale a reçu toutes les autorisations nécessaires des autorités de supervision pour ces rachats qui seront exécutés dans le respect des conditions, notamment de prix maximal, prévues  par \n",
      "l’Assemblée Générale du 1 7 mai 2022 ainsi qu’ en conformité avec le Règlement Abus de marché. Ils \n",
      "seront réalisé s sur le s plate s-form es de négociation sur l esquelle s les actions Société Générale ont été \n",
      "admises à la négociation ou sont négociées , dont  le marché  réglementé d'Euronext Paris . \n",
      " Le contrat de liquidité conclu avec Rothschild est par ailleurs temporairement suspendu pendant toute \n",
      "la période de rachat.  \n",
      " \n",
      " \n",
      "Dénomination sociale de l’émetteur  : Société Générale - LEI O2RNE8IBXP4R0TD8PU41  \n",
      " \n",
      "Référence de l’instrument financier  : Actions ordin aires - Code ISIN FR0000130809  \n",
      " \n",
      "Période  : Du 16 au 20 janvier 2023  \n",
      "  \n",
      "\n",
      "Achats réalisés par Société Générale au cours de la période  \n",
      " \n",
      "    \n",
      "Présentation agrégée par jour et par marché  \n",
      " \n",
      " \n",
      "Nom de \n",
      "l'émetteur  Code identifiant de \n",
      "l'émetteur (LEI)  Jour de la \n",
      "transaction  Code \n",
      "identifiant de \n",
      "l'instrument \n",
      "financier (ISIN)  Volume total \n",
      "journalier (en \n",
      "nombre \n",
      "d'actions)  Prix pondéré \n",
      "moyen \n",
      "journalier \n",
      "d'acquisition \n",
      "des actions  Marché  \n",
      "SOCIETE GENERALE  O2RNE8IBXP4R0TD8PU41  16/01/2023  FR0000130809  4 172  24,6189  XPAR  \n",
      "SOCIETE GENERALE  O2RNE8IBXP4R0TD8PU41  17/01/2023  FR0000130809  97 000  24,4390  XPAR  \n",
      "SOCIETE GENERALE  O2RNE8IBXP4R0TD8PU41  18/01/2023  FR0000130809  25 800  24,7006  XPAR  \n",
      "SOCIETE GENERALE  O2RNE8IBXP4R0TD8PU41  19/01/2023  FR0000130809  91 500  24,2546  XPAR  \n",
      "SOCIETE GENERALE  O2RNE8IBXP4R0TD8PU41  19/01/2023  FR0000130809  70 000  24,1896  CEUX  \n",
      "SOCIETE GENERALE  O2RNE8IBXP4R0TD8PU41  19/01/2023  FR0000130809  10 000  24,1396  TQEX  \n",
      "SOCIETE GENERALE  O2RNE8IBXP4R0TD8PU41  20/01/2023  FR0000130809  3 182  24,3513  XPAR  \n",
      "      TOTAL             301 654  24,3392    \n",
      " \n",
      "    \n",
      "Présentation détaillée par transaction  \n",
      " \n",
      "La présentation détaillée par transaction est disponible au sein du Chapitre 6  Descriptifs des \n",
      "programmes de rachats d’actions, déclarations des rachats d’actions et bilans du contrat de liquidité : Information Réglementée - Société Générale (societegenerale.com)\n",
      " \n",
      "  \n",
      "Contact s presse :   \n",
      "Jean -Baptiste Froville_+33 1 58 98 68 00_ jean -baptiste.froville@socgen.com   \n",
      "Fanny Rouby_+33 1 57 29 11 12_ fanny.rouby@socgen.com  \n",
      " \n",
      "  \n",
      "Société Générale \n",
      " \n",
      "Société Générale est l’un des tout premiers groupes européens de services financiers. S’appuyant sur un modèle diversifié et \n",
      "intégré, le Groupe allie solidité financière, dynamique d’innovation et stratégie de croissance durable et responsable. Engag ée \n",
      "dans les transformations positives des sociétés et des économies, Société Générale agit chaque jour avec ses équipes pour constr uire ensemble, avec ses clients, un avenir meilleur et durable en apportant des solutions financières responsables et \n",
      "innovantes.  \n",
      " Acteur important de l’économie réelle depuis plus de 150 ans avec un ancrage solide en Europe et connecté au reste du \n",
      "monde, Société Générale emploie plus de 11 7 000 collaborateurs dans 66 pays et accompagne au quotidien 2 5 millions de \n",
      "clients particuliers, entreprises et investisseurs institutionnels à travers le monde, en offrant une large palette de consei ls et \n",
      "de solutions financières sur mesure qui s’appuie sur trois pôles métiers complémentaires :  \n",
      " la Banque de détail en France avec  la banque SG , issue du rapprochement des deux réseaux Société Générale et \n",
      "Crédit du Nord, et Boursorama qui offrent des gammes complètes de serv ices financiers avec un dispositif omnicanal à \n",
      "la pointe de l’innovation digitale ;   \n",
      " la Banque de détail à l’international, l’assurance et les services financiers , avec des réseaux présents en Afrique, \n",
      "Europe centrale et de l’est, et des métiers spécialisés leaders dans leurs marchés ;  \n",
      " la Banque de Grande Clientèle et Solutions Investisseurs , avec ses expertises reconnues, positions internationales \n",
      "clés et solutions intégrées.  \n",
      " \n",
      "Société Générale figure dans les principaux indices de développement durable : DJSI (Europe), FTSE4Good (Global et Europe), Bloomberg Gender -Equality Index, Refinitiv Diversity and Inclusion Index, Euronext Vigeo (Europe et Eurozone), STOXX Global  \n",
      "ESG Lead ers indexes et MSCI Low Carbon Leaders Index (World and Europe).  \n",
      " \n",
      "En cas de doute sur l’authenticité de ce communiqué de presse, rendez -vous au bas de la newsroom de societegenerale.c om. \n",
      "Les communiqués émanant de Société Générale sont certifiés par la technologie blockchain. Un lien vous permettra d’y \n",
      "vérifier de l’intégrité de cette information.  \n",
      " Pour plus d’information, vous pouvez suivre le compte twitter  \n",
      "@societegenerale ou visiter le site societegenerale.com . \n"
     ]
    }
   ],
   "source": [
    "for i in range(len(reader.pages)):\n",
    "    page = reader.pages[i]\n",
    "    print(page.extract_text())\n",
    "    \n",
    "for i in page.images:\n",
    "    with open(i.name, 'wb') as f:\n",
    "        f.write(i.data)"
   ]
  },
  {
   "cell_type": "markdown",
   "id": "d528d8ce",
   "metadata": {},
   "source": [
    "# Image extraction"
   ]
  },
  {
   "cell_type": "code",
   "execution_count": 40,
   "id": "ff827af5",
   "metadata": {},
   "outputs": [],
   "source": [
    "for i in page.images:\n",
    "    with open(i.name, 'wb') as f:\n",
    "        f.write(i.data)"
   ]
  },
  {
   "cell_type": "markdown",
   "id": "1a42dc07",
   "metadata": {},
   "source": [
    "# Tablea extractor"
   ]
  },
  {
   "cell_type": "code",
   "execution_count": 41,
   "id": "74011a83",
   "metadata": {},
   "outputs": [
    {
     "name": "stdout",
     "output_type": "stream",
     "text": [
      "[]\n",
      "[[[\"Nom de \\nl'émetteur\", None, None, \"Code identifiant de \\nl'émetteur (LEI)\", None, None, 'Jour de la \\ntransaction', None, None, \"Code \\nidentifiant de \\nl'instrument \\nfinancier (ISIN)\", None, None, \"Volume total \\njournalier (en \\nnombre \\nd'actions)\", None, None, \"Prix pondéré \\nmoyen \\njournalier \\nd'acquisition \\ndes actions\", None, None, 'Marché', None, None], ['', 'SOCIETE GENERALE', '', '', 'O2RNE8IBXP4R0TD8PU41', '', '', '16/01/2023', '', '', 'FR0000130809', '', '', '4 172', '', '', '24,6189', '', '', 'XPAR', ''], ['', 'SOCIETE GENERALE', '', '', 'O2RNE8IBXP4R0TD8PU41', '', '', '17/01/2023', '', '', 'FR0000130809', '', '', '97 000', '', '', '24,4390', '', '', 'XPAR', ''], ['', 'SOCIETE GENERALE', '', '', 'O2RNE8IBXP4R0TD8PU41', '', '', '18/01/2023', '', '', 'FR0000130809', '', '', '25 800', '', '', '24,7006', '', '', 'XPAR', ''], ['', 'SOCIETE GENERALE', '', '', 'O2RNE8IBXP4R0TD8PU41', '', '', '19/01/2023', '', '', 'FR0000130809', '', '', '91 500', '', '', '24,2546', '', '', 'XPAR', ''], ['', 'SOCIETE GENERALE', '', '', 'O2RNE8IBXP4R0TD8PU41', '', '', '19/01/2023', '', '', 'FR0000130809', '', '', '70 000', '', '', '24,1896', '', '', 'CEUX', ''], ['', 'SOCIETE GENERALE', '', '', 'O2RNE8IBXP4R0TD8PU41', '', '', '19/01/2023', '', '', 'FR0000130809', '', '', '10 000', '', '', '24,1396', '', '', 'TQEX', ''], ['', 'SOCIETE GENERALE', '', '', 'O2RNE8IBXP4R0TD8PU41', '', '', '20/01/2023', '', '', 'FR0000130809', '', '', '3 182', '', '', '24,3513', '', '', 'XPAR', ''], ['', '', '', '', '', '', '', '', '', '', 'TOTAL', '', '', '301 654', '', '', '24,3392', '', '', '', '']], [['Prix pondéré'], ['moyen'], ['journalier'], [\"d'acquisition\"], ['des actions']], [['Code'], ['identifiant de'], [\"l'instrument\"], ['financier (ISIN)']], [['Volume total'], ['journalier (en'], ['nombre'], [\"d'actions)\"]], [['Nom de'], [\"l'émetteur\"]], [['Code identifiant de'], [\"l'émetteur (LEI)\"]], [['Jour de la'], ['transaction']]]\n",
      "[]\n"
     ]
    }
   ],
   "source": [
    "with pdfplumber.open('sciete_generale.pdf') as f:\n",
    "    for i in f.pages:\n",
    "        print(i.extract_tables())"
   ]
  },
  {
   "cell_type": "markdown",
   "id": "041ce77a",
   "metadata": {},
   "source": []
  }
 ],
 "metadata": {
  "kernelspec": {
   "display_name": "Python 3 (ipykernel)",
   "language": "python",
   "name": "python3"
  },
  "language_info": {
   "codemirror_mode": {
    "name": "ipython",
    "version": 3
   },
   "file_extension": ".py",
   "mimetype": "text/x-python",
   "name": "python",
   "nbconvert_exporter": "python",
   "pygments_lexer": "ipython3",
   "version": "3.9.13"
  }
 },
 "nbformat": 4,
 "nbformat_minor": 5
}
